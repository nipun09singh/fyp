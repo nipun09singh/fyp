{
 "cells": [
  {
   "cell_type": "code",
   "execution_count": 1,
   "metadata": {
    "_cell_guid": "79c7e3d0-c299-4dcb-8224-4455121ee9b0",
    "_uuid": "d629ff2d2480ee46fbb7e2d37f6b5fab8052498a",
    "execution": {
     "iopub.execute_input": "2022-08-26T09:19:05.263730Z",
     "iopub.status.busy": "2022-08-26T09:19:05.263408Z",
     "iopub.status.idle": "2022-08-26T09:19:23.481044Z",
     "shell.execute_reply": "2022-08-26T09:19:23.480120Z",
     "shell.execute_reply.started": "2022-08-26T09:19:05.263699Z"
    },
    "id": "7qlPdXMb3moo",
    "outputId": "d24f8b3c-f317-4dbc-c065-9e7d9b15626e"
   },
   "outputs": [
    {
     "name": "stdout",
     "output_type": "stream",
     "text": [
      "images:(3064,), masks:(3064,), labels:(3064,)\n"
     ]
    }
   ],
   "source": [
    "import os\n",
    "import glob\n",
    "import numpy as np\n",
    "import torch\n",
    "import torch.nn as nn\n",
    "import torch.nn.functional as F\n",
    "from sklearn.decomposition import PCA\n",
    "from sklearn.feature_selection import RFE\n",
    "from sklearn.linear_model import LogisticRegression\n",
    "from torch.utils.data import Dataset, DataLoader\n",
    "import albumentations as A\n",
    "from albumentations.pytorch import ToTensor\n",
    "from sklearn.model_selection import train_test_split\n",
    "from torchvision.models import resnext50_32x4d\n",
    "import matplotlib.pyplot as plt\n",
    "from tqdm import trange\n",
    "\n",
    "integer_to_class = dict(zip([1, 2, 3], ['meningioma', 'glioma', 'pituitary']))\n",
    "\n",
    "def load_info():\n",
    "    input_scans = np.load(\"/content/drive/MyDrive/ColabNotebooks/numpydata/images.npy\", allow_pickle=True)\n",
    "    seg_maps = np.load(\"/content/drive/MyDrive/ColabNotebooks/numpydata/masks.npy\", allow_pickle=True)\n",
    "    name_scans = np.load(\"/content/drive/MyDrive/ColabNotebooks/numpydata/labels.npy\")\n",
    "    print(f\"images:{input_scans.shape}, masks:{seg_maps.shape}, labels:{name_scans.shape}\")\n",
    "    return np.column_stack((input_scans, seg_maps, name_scans))\n",
    "info = load_info()"
   ]
  },
  {
   "attachments": {},
   "cell_type": "markdown",
   "metadata": {
    "id": "tbbzCkhM3moy"
   },
   "source": [
    "# Now we divide the set into set_training and set_validation"
   ]
  },
  {
   "cell_type": "code",
   "execution_count": 3,
   "metadata": {
    "execution": {
     "iopub.execute_input": "2022-08-26T09:19:23.492839Z",
     "iopub.status.busy": "2022-08-26T09:19:23.492503Z",
     "iopub.status.idle": "2022-08-26T09:19:24.197191Z",
     "shell.execute_reply": "2022-08-26T09:19:24.196225Z",
     "shell.execute_reply.started": "2022-08-26T09:19:23.492805Z"
    },
    "id": "951YzqNF3moz",
    "outputId": "6796dc97-6f9b-4efb-a1f8-bec4ad2275a6"
   },
   "outputs": [
    {
     "name": "stdout",
     "output_type": "stream",
     "text": [
      "Train: (2479, 3) \n",
      "Val: (246, 3) \n",
      "Test: (339, 3)\n"
     ]
    }
   ],
   "source": [
    "def split_info(info):\n",
    "    set_training, set_validation = train_test_split(info, test_size=0.08, random_state=42)\n",
    "    set_training, test_info = train_test_split(set_training, test_size=0.12, random_state=42)\n",
    "    print(\"Train:\", set_training.shape, \"\\nVal:\", set_validation.shape, \"\\nTest:\", test_info.shape)\n",
    "    return set_training, set_validation, test_info\n",
    "set_training, set_validation, test_info = split_info(info)\n",
    "\n"
   ]
  },
  {
   "cell_type": "code",
   "execution_count": null,
   "metadata": {},
   "outputs": [],
   "source": [
    "import torch\n",
    "import torch.nn as nn\n",
    "import torch.nn.functional as F\n",
    "from torch.utils.data import Dataset, DataLoader\n",
    "\n",
    "import albumentations as A\n",
    "from albumentations.pytorch import ToTensor\n",
    "\n",
    "device = torch.device('cuda:0' if torch.cuda.is_available() else 'cpu')\n",
    "\n",
    "class BT_MRI_Dataset(Dataset):\n",
    "    def __init__(self, info, modifications, num=3):\n",
    "        self.info = info\n",
    "        self.modifications = modifications\n",
    "        self.num = num\n",
    "        \n",
    "    def __len__(self):\n",
    "        return len(self.info)\n",
    "    \n",
    "    def __getitem__(self, x):\n",
    "        scan = self.info[x][0].astype(\"float32\")\n",
    "        average, standarddev = scan.mean(), scan.std()\n",
    "        scan = (scan - average) / standarddev\n",
    "        scanconv = np.stack([scan]*3).transpose(1,2,0)\n",
    "        name = self.info[x][2] - 1\n",
    "        seg_map = np.expand_dims(self.info[x][1], -1)\n",
    "        \n",
    "        ground_seg_map = np.zeros((seg_map.shape[0], seg_map.shape[1], \n",
    "                                self.num))\n",
    "        ground_seg_map[:,:, name : name + 1] = seg_map.astype(\"uint8\")\n",
    "        \n",
    "        ground_seg_map = np.clip(ground_seg_map, 0, 1).astype(\"float32\")\n",
    "        \n",
    "        \n",
    "        newscan = self.modifications(scan=scanconv, \n",
    "                                    seg_map=ground_seg_map)\n",
    "        scan = newscan['scan']\n",
    "        seg_map = newscan['seg_map']\n",
    "        \n",
    "        return scan, seg_map\n",
    "def get_modifications():\n",
    "    return A.Compose([\n",
    "        A.VerticalFlip(p=0.5),\n",
    "        A.Rotate(limit=30, p=0.5),\n",
    "        A.ShiftScaleRotate(scale_limit=0.5, rotate_limit=0, shift_limit=0.1, p=0.5, border_mode=0),\n",
    "        A.GridDistortion(p=0.5),\n",
    "        A.OpticalDistortion(p=0.5, distort_limit=2, shift_limit=0.5),\n",
    "        A.Resize(156, 156, p=1.),\n",
    "        A.RandomCrop(128, 128, p=1.)\n",
    "    ])\n",
    "\n",
    "def create_dataloaders(set_training, set_validation, test_info, modifications):\n",
    "    set_training = BT_MRI_Dataset(info=set_training, modifications=modifications)\n",
    "    inputTraining = DataLoader(set_training, batch_size=16, num_workers=4, shuffle=True)\n",
    "\n",
    "    set_validation = BT_MRI_Dataset(info=set_validation, modifications=modifications)\n",
    "    inputValidation = DataLoader(set_validation, batch_size=16, num_workers=4, shuffle=True)\n",
    "\n",
    "    set_test = BT_MRI_Dataset(info=test_info, modifications=modifications)\n",
    "    inputTest = DataLoader(set_test, batch_size=16, num_workers=4, shuffle=True)\n",
    "\n",
    "    return inputTraining, inputValidation, inputTest\n",
    "\n",
    "def apply_pca(dataset, n_components):\n",
    "    pca = PCA(n_components=n_components)\n",
    "    flattened_dataset = dataset.reshape(dataset.shape[0], -1)\n",
    "    transformed_dataset = pca.fit_transform(flattened_dataset)\n",
    "    return transformed_dataset.reshape(dataset.shape[0], n_components, dataset.shape[2], dataset.shape[3])\n",
    "\n",
    "n_components = 16\n",
    "transformed_set_training = apply_pca(set_training, n_components)\n",
    "transformed_set_validation = apply_pca(set_validation, n_components)\n",
    "transformed_test_info = apply_pca(test_info, n_components)\n",
    "\n",
    "inputTraining, inputValidation, inputTest = create_dataloaders(transformed_set_training, transformed_set_validation, transformed_test_info, get_modifications())"
   ]
  },
  {
   "attachments": {},
   "cell_type": "markdown",
   "metadata": {
    "id": "3_WUaHEg3mp3"
   },
   "source": [
    "# CUSTOM U-NET MODEL"
   ]
  },
  {
   "cell_type": "code",
   "execution_count": 13,
   "metadata": {
    "execution": {
     "iopub.execute_input": "2022-08-26T09:19:31.905803Z",
     "iopub.status.busy": "2022-08-26T09:19:31.905454Z",
     "iopub.status.idle": "2022-08-26T09:19:31.916269Z",
     "shell.execute_reply": "2022-08-26T09:19:31.915301Z",
     "shell.execute_reply.started": "2022-08-26T09:19:31.905772Z"
    },
    "id": "tyI6OeNe3mp4"
   },
   "outputs": [],
   "source": [
    "from torchvision.models import resnext50_32x4d\n",
    "\n",
    "class Convolutional(nn.Module):\n",
    "    def __init__(self, source, source_out, kernel, padding):\n",
    "        super().__init__()\n",
    "\n",
    "        self.convolutional = nn.Sequential(\n",
    "            nn.Conv2d(source, source_out, kernel, padding=padding),\n",
    "            nn.ReLU(inplace=True)\n",
    "        )\n",
    "\n",
    "    def progress(self, x):\n",
    "        x = self.convolutional(x)\n",
    "        return x\n",
    "\n",
    "class DeLayer(nn.Module):\n",
    "    def __init__(self, source, source_out):\n",
    "        super().__init__()\n",
    "        \n",
    "        self.conv1 = Convolutional(source, source // 4, 1, 0)\n",
    "        \n",
    "        self.deconv = nn.ConvTranspose2d(source // 4, source // 4, kernel_size=4,\n",
    "                                          stride=2, padding=1, output_padding=0)\n",
    "        \n",
    "        self.conv2 = Convolutional(source // 4, source_out, 1, 0)\n",
    "\n",
    "    def progress(self, x):\n",
    "        x = self.conv1(x)\n",
    "        x = self.deconv(x)\n",
    "        x = self.conv2(x)\n",
    "\n",
    "        return x"
   ]
  },
  {
   "cell_type": "code",
   "execution_count": 14,
   "metadata": {
    "execution": {
     "iopub.execute_input": "2022-08-26T09:19:31.918225Z",
     "iopub.status.busy": "2022-08-26T09:19:31.917694Z",
     "iopub.status.idle": "2022-08-26T09:19:31.934814Z",
     "shell.execute_reply": "2022-08-26T09:19:31.933692Z",
     "shell.execute_reply.started": "2022-08-26T09:19:31.918186Z"
    },
    "id": "9FnngKsX3mp8"
   },
   "outputs": [],
   "source": [
    "class TransferModel(nn.Module):\n",
    "\n",
    "    def __init__(self, num):\n",
    "        super().__init__()\n",
    "        \n",
    "        self.base_model = resnext50_32x4d(pretrained=True)\n",
    "        self.base_layers = list(self.base_model.children())\n",
    "        filters = [4*64, 4*128, 4*256, 4*512]\n",
    "        \n",
    "        self.firsten = nn.Sequential(*self.base_layers[:3])\n",
    "        self.seconden = nn.Sequential(*self.base_layers[4])\n",
    "        self.thirden = nn.Sequential(*self.base_layers[5])\n",
    "        self.fourthen = nn.Sequential(*self.base_layers[6])\n",
    "        self.fifthen = nn.Sequential(*self.base_layers[7])\n",
    "\n",
    "        self.firstde = DecoderBlock(filters[3], filters[2])\n",
    "        self.secondde = DecoderBlock(filters[2], filters[1])\n",
    "        self.thirdde = DecoderBlock(filters[1], filters[0])\n",
    "        self.fourthde = DecoderBlock(filters[0], filters[0])\n",
    "\n",
    "        self.layfirst = ConvRelu(256, 128, 3, 1)\n",
    "        self.laysecond = nn.Conv2d(128, n_classes, 3, padding=1)\n",
    "                       \n",
    "        \n",
    "    def progress(self, q):\n",
    "        q = self.firsten(q)\n",
    "        first = self.seconden(q)\n",
    "        second = self.thirden(first)\n",
    "        third = self.fourthen(second)\n",
    "        fourth = self.fifthen(third)\n",
    "\n",
    "        fourde = self.firstde(fourth) + third\n",
    "        threede = self.secondde(fourde) + second\n",
    "        deetwo = self.thirdde(threede) + first\n",
    "        deeone = self.fourthde(deetwo)\n",
    "\n",
    "        put_out = self.layfirst(deeone)\n",
    "        put_out = self.laysecond(put_out)\n",
    "        put_out = torch.sigmoid(put_out)\n",
    "        \n",
    "        return out"
   ]
  },
  {
   "attachments": {},
   "cell_type": "markdown",
   "metadata": {
    "id": "0bRhuwzkPuJt"
   },
   "source": [
    "# Performance Metrics\n"
   ]
  },
  {
   "cell_type": "code",
   "execution_count": 15,
   "metadata": {
    "execution": {
     "iopub.execute_input": "2022-08-26T09:19:31.937309Z",
     "iopub.status.busy": "2022-08-26T09:19:31.936725Z",
     "iopub.status.idle": "2022-08-26T09:19:31.949451Z",
     "shell.execute_reply": "2022-08-26T09:19:31.948476Z",
     "shell.execute_reply.started": "2022-08-26T09:19:31.937272Z"
    },
    "id": "Kp0FEMvA3mqA"
   },
   "outputs": [],
   "source": [
    "def perf_dice(pred, ground):\n",
    "    common = 2.0 * (ground * pred).sum()\n",
    "    commonandelse = ground.sum() + pred.sum()\n",
    "    if ground.sum() == 0 and pred.sum() == 0:\n",
    "        return 1.0\n",
    "\n",
    "    return common / commonandelse\n",
    "\n",
    "def loss_perf_dice(pred, ground):\n",
    "    sizelen = ground.size(0)\n",
    "    pred = pred.reshape(sizelen, -1)\n",
    "    ground = ground.reshape(sizelen, -1)\n",
    "    i = 1.0\n",
    "    common = (pred * ground)\n",
    "    score = (2. * common.sum(1) + i) / (pred.sum(1) + ground.sum(1) + i)\n",
    "    score = 1 - score.sum() / sizelen\n",
    "    return score\n",
    "\n",
    "def bce_dice_loss(pred, ground):\n",
    "    dicescore = loss_perf_dice(pred, ground)\n",
    "    bcescore = nn.BCELoss()\n",
    "    bceloss = bcescore(pred, ground)\n",
    "\n",
    "    return bceloss + dicescore"
   ]
  },
  {
   "cell_type": "code",
   "execution_count": 16,
   "metadata": {
    "execution": {
     "iopub.execute_input": "2022-08-26T09:19:31.952978Z",
     "iopub.status.busy": "2022-08-26T09:19:31.952605Z",
     "iopub.status.idle": "2022-08-26T09:19:44.424437Z",
     "shell.execute_reply": "2022-08-26T09:19:44.423439Z",
     "shell.execute_reply.started": "2022-08-26T09:19:31.952951Z"
    },
    "id": "Y4XoFXu43mqD"
   },
   "outputs": [
    {
     "name": "stderr",
     "output_type": "stream",
     "text": [
      "Downloading: \"https://download.pytorch.org/models/resnext50_32x4d-7cdf4587.pth\" to /root/.cache/torch/checkpoints/resnext50_32x4d-7cdf4587.pth\n"
     ]
    },
    {
     "data": {
      "application/vnd.jupyter.widget-view+json": {
       "model_id": "414a034230764955936957e991df8b14",
       "version_major": 2,
       "version_minor": 0
      },
      "text/plain": [
       "HBox(children=(FloatProgress(value=0.0, max=100441675.0), HTML(value='')))"
      ]
     },
     "metadata": {},
     "output_type": "display_data"
    },
    {
     "name": "stdout",
     "output_type": "stream",
     "text": [
      "\n"
     ]
    }
   ],
   "source": [
    "model = TransferModel(num=3).to(device)\n",
    "adam = torch.optim.Adam(model.parameters(), lr=1e-3)\n",
    "scheduler = torch.optim.lr_scheduler.StepLR(adam, step_size=10, gamma=0.1)"
   ]
  },
  {
   "attachments": {},
   "cell_type": "markdown",
   "metadata": {
    "id": "JpIdrMM2P3DS"
   },
   "source": [
    "# Training"
   ]
  },
  {
   "cell_type": "code",
   "execution_count": 17,
   "metadata": {
    "execution": {
     "iopub.execute_input": "2022-08-26T09:19:44.426210Z",
     "iopub.status.busy": "2022-08-26T09:19:44.425836Z",
     "iopub.status.idle": "2022-08-26T09:19:44.438304Z",
     "shell.execute_reply": "2022-08-26T09:19:44.436282Z",
     "shell.execute_reply.started": "2022-08-26T09:19:44.426174Z"
    },
    "id": "bBhIH6U96ZC3"
   },
   "outputs": [],
   "source": [
    "def train(model, optimizer, lr_scheduler, info_loader, epoch):\n",
    "    model.train()\n",
    "\n",
    "    losses = []\n",
    "    accur = []\n",
    "\n",
    "    for info, ground in info_loader:\n",
    "\n",
    "        info = info.permute(0,3,1,2).to(device)\n",
    "        grounds = ground.permute(0,3,1,2).to(device)\n",
    "\n",
    "        arr = model(info)\n",
    "\n",
    "        slicearr = np.copy(arr.info.cpu().numpy())\n",
    "        slicearr[np.nonzero(slicearr < 0.5)] = 0.0\n",
    "        slicearr[np.nonzero(slicearr >= 0.5)] = 1.0\n",
    "\n",
    "        trainingcoeffdice = perf_dice(slicearr, grounds.info.cpu().numpy())\n",
    "\n",
    "        loss = bce_dice_loss(arr, grounds)\n",
    "\n",
    "        losses.append(loss.item())\n",
    "        accur.append(trainingcoeffdice)\n",
    "\n",
    "        optimizer.zero_grad()\n",
    "        loss.backward()\n",
    "        optimizer.step()\n",
    "        \n",
    "    if lr_scheduler is not None:\n",
    "        lr_scheduler.step()\n",
    "    return np.array(losses).mean(), np.array(accur).mean()"
   ]
  },
  {
   "cell_type": "code",
   "execution_count": 18,
   "metadata": {
    "execution": {
     "iopub.execute_input": "2022-08-26T09:19:44.440368Z",
     "iopub.status.busy": "2022-08-26T09:19:44.439875Z",
     "iopub.status.idle": "2022-08-26T09:19:44.451085Z",
     "shell.execute_reply": "2022-08-26T09:19:44.450250Z",
     "shell.execute_reply.started": "2022-08-26T09:19:44.440332Z"
    },
    "id": "VS0q5_hs6lkb"
   },
   "outputs": [],
   "source": [
    "def validationep(model, valid, epoch, t=0.3):\n",
    "\n",
    "    model.eval()\n",
    "    accuracy = []\n",
    "\n",
    "    with torch.no_grad():\n",
    "        for info, grounds in valid:\n",
    "\n",
    "            info = info.permute(0,3,1,2).to(device)\n",
    "            grounds = grounds.permute(0,3,1,2).to(device)\n",
    "\n",
    "            arr = model(info)\n",
    "            np.save(\"segmentation_output.npy\", arr.cpu().numpy())\n",
    "\n",
    "            slicearr = np.copy(arr.info.cpu().numpy())\n",
    "            slicearr[np.nonzero(slicearr < t)] = 0.0\n",
    "            slicearr[np.nonzero(slicearr >= t)] = 1.0\n",
    "\n",
    "            currdice = perf_dice(slicearr, grounds.info.cpu().numpy())\n",
    "            accuracy.append(currdice)\n",
    "        \n",
    "        return np.array(accuracy).mean()"
   ]
  },
  {
   "cell_type": "code",
   "execution_count": 19,
   "metadata": {
    "execution": {
     "iopub.execute_input": "2022-08-26T09:19:44.453040Z",
     "iopub.status.busy": "2022-08-26T09:19:44.452611Z",
     "iopub.status.idle": "2022-08-26T11:16:00.719847Z",
     "shell.execute_reply": "2022-08-26T11:16:00.718500Z",
     "shell.execute_reply.started": "2022-08-26T09:19:44.453005Z"
    },
    "id": "_BTRUDm191en",
    "outputId": "2c7cbdd2-5602-4a19-a439-7f238a8fc520"
   },
   "outputs": [
    {
     "name": "stderr",
     "output_type": "stream",
     "text": [
      "  0%|          | 0/30 [00:00<?, ?it/s]"
     ]
    },
    {
     "name": "stdout",
     "output_type": "stream",
     "text": [
      "Start Train ...\n",
      "Epoch [0]\n",
      "Mean loss on train: 0.8868406607258704 Mean DICE on train: 0.18809188886992553\n",
      "Start Validation ...\n"
     ]
    },
    {
     "name": "stderr",
     "output_type": "stream",
     "text": [
      "  3%|▎         | 1/30 [03:51<1:52:04, 231.88s/it]"
     ]
    },
    {
     "name": "stdout",
     "output_type": "stream",
     "text": [
      "Epoch:  0  Threshold:  0.3 Mean Validation DICE Score: 0.3910327030130101\n",
      "Start Train ...\n",
      "Epoch [1]\n",
      "Mean loss on train: 0.678778374771918 Mean DICE on train: 0.41765931290344616\n",
      "Start Validation ...\n"
     ]
    },
    {
     "name": "stderr",
     "output_type": "stream",
     "text": [
      "  7%|▋         | 2/30 [07:43<1:48:12, 231.88s/it]"
     ]
    },
    {
     "name": "stdout",
     "output_type": "stream",
     "text": [
      "Epoch:  1  Threshold:  0.3 Mean Validation DICE Score: 0.38806874717754386\n",
      "Start Train ...\n",
      "Epoch [2]\n",
      "Mean loss on train: 0.5645599513284622 Mean DICE on train: 0.5087220276169558\n",
      "Start Validation ...\n"
     ]
    },
    {
     "name": "stderr",
     "output_type": "stream",
     "text": [
      " 10%|█         | 3/30 [11:35<1:44:17, 231.76s/it]"
     ]
    },
    {
     "name": "stdout",
     "output_type": "stream",
     "text": [
      "Epoch:  2  Threshold:  0.3 Mean Validation DICE Score: 0.4588735423140128\n",
      "Start Train ...\n",
      "Epoch [3]\n",
      "Mean loss on train: 0.5193271212039455 Mean DICE on train: 0.5557373794508683\n",
      "Start Validation ...\n"
     ]
    },
    {
     "name": "stderr",
     "output_type": "stream",
     "text": [
      " 13%|█▎        | 4/30 [15:26<1:40:25, 231.76s/it]"
     ]
    },
    {
     "name": "stdout",
     "output_type": "stream",
     "text": [
      "Epoch:  3  Threshold:  0.3 Mean Validation DICE Score: 0.4808699628666536\n",
      "Start Train ...\n",
      "Epoch [4]\n",
      "Mean loss on train: 0.48370306126533014 Mean DICE on train: 0.5769916482408362\n",
      "Start Validation ...\n"
     ]
    },
    {
     "name": "stderr",
     "output_type": "stream",
     "text": [
      " 17%|█▋        | 5/30 [19:18<1:36:33, 231.75s/it]"
     ]
    },
    {
     "name": "stdout",
     "output_type": "stream",
     "text": [
      "Epoch:  4  Threshold:  0.3 Mean Validation DICE Score: 0.5465712861804505\n",
      "Start Train ...\n",
      "Epoch [5]\n",
      "Mean loss on train: 0.47496157173187503 Mean DICE on train: 0.5854019789684958\n",
      "Start Validation ...\n"
     ]
    },
    {
     "name": "stderr",
     "output_type": "stream",
     "text": [
      " 20%|██        | 6/30 [23:10<1:32:42, 231.78s/it]"
     ]
    },
    {
     "name": "stdout",
     "output_type": "stream",
     "text": [
      "Epoch:  5  Threshold:  0.3 Mean Validation DICE Score: 0.5771653788779472\n",
      "Start Train ...\n",
      "Epoch [6]\n",
      "Mean loss on train: 0.4487904071807861 Mean DICE on train: 0.6101585896808414\n",
      "Start Validation ...\n"
     ]
    },
    {
     "name": "stderr",
     "output_type": "stream",
     "text": [
      " 23%|██▎       | 7/30 [27:02<1:28:51, 231.83s/it]"
     ]
    },
    {
     "name": "stdout",
     "output_type": "stream",
     "text": [
      "Epoch:  6  Threshold:  0.3 Mean Validation DICE Score: 0.5833768361047422\n",
      "Start Train ...\n",
      "Epoch [7]\n",
      "Mean loss on train: 0.46698008804552016 Mean DICE on train: 0.5809230817253287\n",
      "Start Validation ...\n"
     ]
    },
    {
     "name": "stderr",
     "output_type": "stream",
     "text": [
      " 27%|██▋       | 8/30 [30:54<1:24:58, 231.75s/it]"
     ]
    },
    {
     "name": "stdout",
     "output_type": "stream",
     "text": [
      "Epoch:  7  Threshold:  0.3 Mean Validation DICE Score: 0.5691690225820341\n",
      "Start Train ...\n",
      "Epoch [8]\n",
      "Mean loss on train: 0.42822414319361407 Mean DICE on train: 0.6204536589901168\n",
      "Start Validation ...\n"
     ]
    },
    {
     "name": "stderr",
     "output_type": "stream",
     "text": [
      " 30%|███       | 9/30 [34:45<1:21:05, 231.71s/it]"
     ]
    },
    {
     "name": "stdout",
     "output_type": "stream",
     "text": [
      "Epoch:  8  Threshold:  0.3 Mean Validation DICE Score: 0.6190121650954837\n",
      "Start Train ...\n",
      "Epoch [9]\n",
      "Mean loss on train: 0.4045354167299886 Mean DICE on train: 0.6445304765258998\n",
      "Start Validation ...\n"
     ]
    },
    {
     "name": "stderr",
     "output_type": "stream",
     "text": [
      " 33%|███▎      | 10/30 [38:37<1:17:13, 231.66s/it]"
     ]
    },
    {
     "name": "stdout",
     "output_type": "stream",
     "text": [
      "Epoch:  9  Threshold:  0.3 Mean Validation DICE Score: 0.5895149778788965\n",
      "Start Train ...\n",
      "Epoch [10]\n",
      "Mean loss on train: 0.34880484429097947 Mean DICE on train: 0.688763915187435\n",
      "Start Validation ...\n"
     ]
    },
    {
     "name": "stderr",
     "output_type": "stream",
     "text": [
      " 37%|███▋      | 11/30 [42:29<1:13:22, 231.72s/it]"
     ]
    },
    {
     "name": "stdout",
     "output_type": "stream",
     "text": [
      "Epoch:  10  Threshold:  0.3 Mean Validation DICE Score: 0.6752140989614592\n",
      "Start Train ...\n",
      "Epoch [11]\n",
      "Mean loss on train: 0.332891779272787 Mean DICE on train: 0.7074482626581043\n",
      "Start Validation ...\n",
      "Epoch:  11  Threshold:  0.3 Mean Validation DICE Score: 0.6992500670007812\n"
     ]
    },
    {
     "name": "stderr",
     "output_type": "stream",
     "text": [
      " 40%|████      | 12/30 [46:22<1:09:37, 232.10s/it]"
     ]
    },
    {
     "name": "stdout",
     "output_type": "stream",
     "text": [
      "Start Train ...\n",
      "Epoch [12]\n",
      "Mean loss on train: 0.32307068244103465 Mean DICE on train: 0.7200361724232544\n",
      "Start Validation ...\n"
     ]
    },
    {
     "name": "stderr",
     "output_type": "stream",
     "text": [
      " 43%|████▎     | 13/30 [50:15<1:05:50, 232.40s/it]"
     ]
    },
    {
     "name": "stdout",
     "output_type": "stream",
     "text": [
      "Epoch:  12  Threshold:  0.3 Mean Validation DICE Score: 0.6810244765303934\n",
      "Start Train ...\n",
      "Epoch [13]\n",
      "Mean loss on train: 0.31511420694089703 Mean DICE on train: 0.7224010485876754\n",
      "Start Validation ...\n"
     ]
    },
    {
     "name": "stderr",
     "output_type": "stream",
     "text": [
      " 47%|████▋     | 14/30 [54:07<1:01:59, 232.47s/it]"
     ]
    },
    {
     "name": "stdout",
     "output_type": "stream",
     "text": [
      "Epoch:  13  Threshold:  0.3 Mean Validation DICE Score: 0.7172333459843508\n",
      "Start Train ...\n",
      "Epoch [14]\n",
      "Mean loss on train: 0.3144045403888149 Mean DICE on train: 0.7250011410461076\n",
      "Start Validation ...\n"
     ]
    },
    {
     "name": "stderr",
     "output_type": "stream",
     "text": [
      " 50%|█████     | 15/30 [58:00<58:06, 232.47s/it]  "
     ]
    },
    {
     "name": "stdout",
     "output_type": "stream",
     "text": [
      "Epoch:  14  Threshold:  0.3 Mean Validation DICE Score: 0.722489568512733\n",
      "Start Train ...\n",
      "Epoch [15]\n",
      "Mean loss on train: 0.29653892718976543 Mean DICE on train: 0.7371298826274376\n",
      "Start Validation ...\n"
     ]
    },
    {
     "name": "stderr",
     "output_type": "stream",
     "text": [
      " 53%|█████▎    | 16/30 [1:01:53<54:18, 232.75s/it]"
     ]
    },
    {
     "name": "stdout",
     "output_type": "stream",
     "text": [
      "Epoch:  15  Threshold:  0.3 Mean Validation DICE Score: 0.7038710208525826\n",
      "Start Train ...\n",
      "Epoch [16]\n",
      "Mean loss on train: 0.3005875906636638 Mean DICE on train: 0.7362940929995264\n",
      "Start Validation ...\n"
     ]
    },
    {
     "name": "stderr",
     "output_type": "stream",
     "text": [
      " 57%|█████▋    | 17/30 [1:05:46<50:27, 232.91s/it]"
     ]
    },
    {
     "name": "stdout",
     "output_type": "stream",
     "text": [
      "Epoch:  16  Threshold:  0.3 Mean Validation DICE Score: 0.7350758421712491\n",
      "Start Train ...\n",
      "Epoch [17]\n",
      "Mean loss on train: 0.29912470396487945 Mean DICE on train: 0.7334214439491658\n",
      "Start Validation ...\n"
     ]
    },
    {
     "name": "stderr",
     "output_type": "stream",
     "text": [
      " 60%|██████    | 18/30 [1:09:39<46:33, 232.80s/it]"
     ]
    },
    {
     "name": "stdout",
     "output_type": "stream",
     "text": [
      "Epoch:  17  Threshold:  0.3 Mean Validation DICE Score: 0.7108934659652082\n",
      "Start Train ...\n",
      "Epoch [18]\n",
      "Mean loss on train: 0.2958704620599747 Mean DICE on train: 0.742640694191143\n",
      "Start Validation ...\n"
     ]
    },
    {
     "name": "stderr",
     "output_type": "stream",
     "text": [
      " 63%|██████▎   | 19/30 [1:13:31<42:38, 232.61s/it]"
     ]
    },
    {
     "name": "stdout",
     "output_type": "stream",
     "text": [
      "Epoch:  18  Threshold:  0.3 Mean Validation DICE Score: 0.7045202206119542\n",
      "Start Train ...\n",
      "Epoch [19]\n",
      "Mean loss on train: 0.2929396221714635 Mean DICE on train: 0.7373472611397853\n",
      "Start Validation ...\n"
     ]
    },
    {
     "name": "stderr",
     "output_type": "stream",
     "text": [
      " 67%|██████▋   | 20/30 [1:17:24<38:45, 232.55s/it]"
     ]
    },
    {
     "name": "stdout",
     "output_type": "stream",
     "text": [
      "Epoch:  19  Threshold:  0.3 Mean Validation DICE Score: 0.7295045147483252\n",
      "Start Train ...\n",
      "Epoch [20]\n",
      "Mean loss on train: 0.2888526107995741 Mean DICE on train: 0.7400343557430896\n",
      "Start Validation ...\n"
     ]
    },
    {
     "name": "stderr",
     "output_type": "stream",
     "text": [
      " 70%|███████   | 21/30 [1:21:16<34:52, 232.55s/it]"
     ]
    },
    {
     "name": "stdout",
     "output_type": "stream",
     "text": [
      "Epoch:  20  Threshold:  0.3 Mean Validation DICE Score: 0.7248615517220653\n",
      "Start Train ...\n",
      "Epoch [21]\n",
      "Mean loss on train: 0.28517439461523486 Mean DICE on train: 0.7428338650739231\n",
      "Start Validation ...\n"
     ]
    },
    {
     "name": "stderr",
     "output_type": "stream",
     "text": [
      " 73%|███████▎  | 22/30 [1:25:09<31:00, 232.56s/it]"
     ]
    },
    {
     "name": "stdout",
     "output_type": "stream",
     "text": [
      "Epoch:  21  Threshold:  0.3 Mean Validation DICE Score: 0.7050678611379704\n",
      "Start Train ...\n",
      "Epoch [22]\n",
      "Mean loss on train: 0.28882560480025504 Mean DICE on train: 0.7390495362406716\n",
      "Start Validation ...\n"
     ]
    },
    {
     "name": "stderr",
     "output_type": "stream",
     "text": [
      " 77%|███████▋  | 23/30 [1:29:02<27:08, 232.68s/it]"
     ]
    },
    {
     "name": "stdout",
     "output_type": "stream",
     "text": [
      "Epoch:  22  Threshold:  0.3 Mean Validation DICE Score: 0.7337974956020541\n",
      "Start Train ...\n",
      "Epoch [23]\n",
      "Mean loss on train: 0.28144700344531765 Mean DICE on train: 0.7494138204121467\n",
      "Start Validation ...\n"
     ]
    },
    {
     "name": "stderr",
     "output_type": "stream",
     "text": [
      " 80%|████████  | 24/30 [1:32:54<23:15, 232.56s/it]"
     ]
    },
    {
     "name": "stdout",
     "output_type": "stream",
     "text": [
      "Epoch:  23  Threshold:  0.3 Mean Validation DICE Score: 0.7068825549811357\n",
      "Start Train ...\n",
      "Epoch [24]\n",
      "Mean loss on train: 0.28225604733151777 Mean DICE on train: 0.7490707035661296\n",
      "Start Validation ...\n",
      "Epoch:  24  Threshold:  0.3 Mean Validation DICE Score: 0.7356243166155318\n"
     ]
    },
    {
     "name": "stderr",
     "output_type": "stream",
     "text": [
      " 83%|████████▎ | 25/30 [1:36:47<19:23, 232.65s/it]"
     ]
    },
    {
     "name": "stdout",
     "output_type": "stream",
     "text": [
      "Start Train ...\n",
      "Epoch [25]\n",
      "Mean loss on train: 0.2799335860436962 Mean DICE on train: 0.7537377040919989\n",
      "Start Validation ...\n"
     ]
    },
    {
     "name": "stderr",
     "output_type": "stream",
     "text": [
      " 87%|████████▋ | 26/30 [1:40:41<15:32, 233.00s/it]"
     ]
    },
    {
     "name": "stdout",
     "output_type": "stream",
     "text": [
      "Epoch:  25  Threshold:  0.3 Mean Validation DICE Score: 0.7181235806154984\n",
      "Start Train ...\n",
      "Epoch [26]\n",
      "Mean loss on train: 0.2810100248744411 Mean DICE on train: 0.7483134655398348\n",
      "Start Validation ...\n"
     ]
    },
    {
     "name": "stderr",
     "output_type": "stream",
     "text": [
      " 90%|█████████ | 27/30 [1:44:35<11:39, 233.28s/it]"
     ]
    },
    {
     "name": "stdout",
     "output_type": "stream",
     "text": [
      "Epoch:  26  Threshold:  0.3 Mean Validation DICE Score: 0.7055991023248109\n",
      "Start Train ...\n",
      "Epoch [27]\n",
      "Mean loss on train: 0.28739750010351983 Mean DICE on train: 0.748379197014411\n",
      "Start Validation ...\n"
     ]
    },
    {
     "name": "stderr",
     "output_type": "stream",
     "text": [
      " 93%|█████████▎| 28/30 [1:48:28<07:46, 233.29s/it]"
     ]
    },
    {
     "name": "stdout",
     "output_type": "stream",
     "text": [
      "Epoch:  27  Threshold:  0.3 Mean Validation DICE Score: 0.7354111437549302\n",
      "Start Train ...\n",
      "Epoch [28]\n",
      "Mean loss on train: 0.28162133914809073 Mean DICE on train: 0.7544128700911683\n",
      "Start Validation ...\n",
      "Epoch:  28  Threshold:  0.3 Mean Validation DICE Score: 0.7426866362643836\n"
     ]
    },
    {
     "name": "stderr",
     "output_type": "stream",
     "text": [
      " 97%|█████████▋| 29/30 [1:52:22<03:53, 233.46s/it]"
     ]
    },
    {
     "name": "stdout",
     "output_type": "stream",
     "text": [
      "Start Train ...\n",
      "Epoch [29]\n",
      "Mean loss on train: 0.28117037088640273 Mean DICE on train: 0.7509981156707045\n",
      "Start Validation ...\n"
     ]
    },
    {
     "name": "stderr",
     "output_type": "stream",
     "text": [
      "100%|██████████| 30/30 [1:56:16<00:00, 232.54s/it]"
     ]
    },
    {
     "name": "stdout",
     "output_type": "stream",
     "text": [
      "Epoch:  29  Threshold:  0.3 Mean Validation DICE Score: 0.7347289779376257\n"
     ]
    },
    {
     "name": "stderr",
     "output_type": "stream",
     "text": [
      "\n"
     ]
    }
   ],
   "source": [
    "from tqdm import trange\n",
    "import os\n",
    "import glob\n",
    "\n",
    "direc = \"/current\"\n",
    "if os.path.exists(direc) == False:\n",
    "    os.mkdir(direc)\n",
    "\n",
    "num_epochs = 30\n",
    "loss = []\n",
    "train = []\n",
    "val = []\n",
    "\n",
    "for epoch in trange(num_epochs):\n",
    "    loss, trainingcoeffdice = train(model, adam, scheduler, \n",
    "                                       inputTraining, epoch)\n",
    "    \n",
    "    currdice = validationsc = validationep(model, inputValidation, epoch)\n",
    "\n",
    "    loss.append(loss)\n",
    "    train.append(trainingcoeffdice)\n",
    "    val.append(currdice)\n",
    "    most_perform = max(val)\n",
    "    if currdice >= most_perform:\n",
    "        torch.save({'state_dict': model.state_dict()},\n",
    "                   os.path.join(direc, f\"{currdice:0.5f}_.pth\"))\n"
   ]
  },
  {
   "cell_type": "code",
   "execution_count": 21,
   "metadata": {
    "execution": {
     "iopub.execute_input": "2022-08-26T11:16:00.730449Z",
     "iopub.status.busy": "2022-08-26T11:16:00.729953Z",
     "iopub.status.idle": "2022-08-26T11:16:00.879581Z",
     "shell.execute_reply": "2022-08-26T11:16:00.878460Z",
     "shell.execute_reply.started": "2022-08-26T11:16:00.730410Z"
    },
    "id": "FNS5haxaq3cw",
    "outputId": "0875c718-6d1b-423e-f83d-e3b3f593533b"
   },
   "outputs": [
    {
     "name": "stdout",
     "output_type": "stream",
     "text": [
      "Loaded model: 0.74269_.pth\n"
     ]
    }
   ],
   "source": [
    "\n",
    "optwt =  sorted(glob.glob(direc + \"/*\"),\n",
    "                       key= lambda x: x[8:-5])[-1]\n",
    "index = torch.load(optwt)\n",
    "model.load_state_dict(index['state_dict'])\n",
    "\n",
    "print(f'Loaded model: {optwt.split(\"/\")[1]}')"
   ]
  },
  {
   "cell_type": "markdown",
   "metadata": {
    "id": "Vw3DCYiNVTUn"
   },
   "source": [
    "### Train history"
   ]
  },
  {
   "cell_type": "code",
   "execution_count": 22,
   "metadata": {
    "execution": {
     "iopub.execute_input": "2022-08-26T11:16:00.882055Z",
     "iopub.status.busy": "2022-08-26T11:16:00.881661Z",
     "iopub.status.idle": "2022-08-26T11:16:00.890513Z",
     "shell.execute_reply": "2022-08-26T11:16:00.889479Z",
     "shell.execute_reply.started": "2022-08-26T11:16:00.882014Z"
    },
    "id": "4XsGPqwo8G16"
   },
   "outputs": [],
   "source": [
    "def summary(trainwhole,\n",
    "                       validationwhole,\n",
    "                       loss ,\n",
    "                       num_epochs):\n",
    "    \n",
    "    x = np.arange(num_epochs)\n",
    "\n",
    "    fig = plt.figure(figsize=(10, 6))\n",
    "    plt.plot(x, trainwhole, label='train dice', lw=3, c=\"springgreen\")\n",
    "    plt.plot(x, validationwhole, label='validation dice', lw=3, c=\"deeppink\")\n",
    "    plt.plot(x, loss, label='dice + bce', lw=3)\n",
    "\n",
    "    plt.xlabel(\"Epoch\", fontsize=15)\n",
    "    plt.ylabel(\"DICE\", fontsize=15)\n",
    "    plt.legend()\n",
    "\n",
    "    return plt.show()"
   ]
  },
  {
   "cell_type": "code",
   "execution_count": 23,
   "metadata": {
    "execution": {
     "iopub.execute_input": "2022-08-26T11:16:00.892877Z",
     "iopub.status.busy": "2022-08-26T11:16:00.892435Z",
     "iopub.status.idle": "2022-08-26T11:16:01.089453Z",
     "shell.execute_reply": "2022-08-26T11:16:01.088217Z",
     "shell.execute_reply.started": "2022-08-26T11:16:00.892838Z"
    },
    "id": "VTT25Dx7UEWZ",
    "outputId": "cd605939-55db-4fd2-bdd2-7fa78d6161b2"
   },
   "outputs": [
    {
     "data": {
      "image/png": "[encoded data removed]",
      "text/plain": [
       "<Figure size 720x432 with 1 Axes>"
      ]
     },
     "metadata": {},
     "output_type": "display_data"
    }
   ],
   "source": [
    "summary(train, val, loss, num_epochs)"
   ]
  },
  {
   "cell_type": "markdown",
   "metadata": {
    "id": "J2ksuiB8Yuio"
   },
   "source": [
    "### Global IoU with different thresholds"
   ]
  },
  {
   "cell_type": "code",
   "execution_count": 25,
   "metadata": {
    "execution": {
     "iopub.execute_input": "2022-08-26T11:16:09.931060Z",
     "iopub.status.busy": "2022-08-26T11:16:09.930659Z",
     "iopub.status.idle": "2022-08-26T11:17:41.987916Z",
     "shell.execute_reply": "2022-08-26T11:17:41.986160Z",
     "shell.execute_reply.started": "2022-08-26T11:16:09.931015Z"
    },
    "id": "8TGgwecOUEOU",
    "outputId": "eec1baff-0dfd-4ae1-9c54-63b982db13f5"
   },
   "outputs": [
    {
     "name": "stdout",
     "output_type": "stream",
     "text": [
      "Test Start...\n",
      "Epoch:  None  Threshold:  0.1 Mean Validation DICE Score: 0.7363348603030573\n",
      "Test Start...\n",
      "Epoch:  None  Threshold:  0.2 Mean Validation DICE Score: 0.7479833798260063\n",
      "Test Start...\n",
      "Epoch:  None  Threshold:  0.33 Mean Validation DICE Score: 0.7140099009480264\n",
      "Test Start...\n",
      "Epoch:  None  Threshold:  0.4 Mean Validation DICE Score: 0.7345780517103926\n",
      "Test Start...\n",
      "Epoch:  None  Threshold:  0.5 Mean Validation DICE Score: 0.7148707639506827\n",
      "Test Start...\n",
      "Epoch:  None  Threshold:  0.6 Mean Validation DICE Score: 0.7462591513824779\n",
      "Test Start...\n",
      "Epoch:  None  Threshold:  0.7 Mean Validation DICE Score: 0.7420782959729931\n",
      "Test Start...\n",
      "Epoch:  None  Threshold:  0.8 Mean Validation DICE Score: 0.7367577166769274\n",
      "Test Start...\n",
      "Epoch:  None  Threshold:  0.85 Mean Validation DICE Score: 0.7287313167196497\n",
      "Test Start...\n",
      "Epoch:  None  Threshold:  0.88 Mean Validation DICE Score: 0.7213372399593714\n"
     ]
    }
   ],
   "source": [
    "totalSc = []\n",
    "t = [0.1, 0.2, 0.33, 0.4, 0.5, 0.6, 0.7, 0.8, 0.85, 0.88]\n",
    "for i in t:\n",
    "    test_dice = validationep(model, inputTest,t=i, epoch=None)\n",
    "    totalSc.append(test_dice)"
   ]
  },
  {
   "attachments": {},
   "cell_type": "markdown",
   "metadata": {
    "id": "ZoK2mK1mZdkY"
   },
   "source": [
    "### Intersection over Union\n"
   ]
  },
  {
   "cell_type": "code",
   "execution_count": 27,
   "metadata": {
    "execution": {
     "iopub.execute_input": "2022-08-26T11:17:42.185903Z",
     "iopub.status.busy": "2022-08-26T11:17:42.185325Z",
     "iopub.status.idle": "2022-08-26T11:17:50.864820Z",
     "shell.execute_reply": "2022-08-26T11:17:50.863832Z",
     "shell.execute_reply.started": "2022-08-26T11:17:42.185859Z"
    },
    "id": "CG1pv5JFXayN"
   },
   "outputs": [],
   "source": [
    "predicted = []\n",
    "groundsTrue = []\n",
    "for data, ground in inputTest:\n",
    "    with torch.no_grad():\n",
    "        data = data.permute(0,3,1,2).to(device)\n",
    "        ground = ground.permute(0,3,1,2)\n",
    "        prediction = model(data)\n",
    "        predicted.append(prediction.detach().cpu())\n",
    "        groundsTrue.append(ground)"
   ]
  },
  {
   "cell_type": "code",
   "execution_count": 29,
   "metadata": {
    "execution": {
     "iopub.execute_input": "2022-08-26T11:17:50.999449Z",
     "iopub.status.busy": "2022-08-26T11:17:50.999045Z",
     "iopub.status.idle": "2022-08-26T11:17:51.197766Z",
     "shell.execute_reply": "2022-08-26T11:17:51.196687Z",
     "shell.execute_reply.started": "2022-08-26T11:17:50.999419Z"
    },
    "id": "xW3EXtfngfD8",
    "outputId": "2b276265-c73f-42d6-d2b1-e7b476dd91fa"
   },
   "outputs": [
    {
     "data": {
      "image/png": "[encoded data removed]",
      "text/plain": [
       "<Figure size 720x432 with 1 Axes>"
      ]
     },
     "metadata": {},
     "output_type": "display_data"
    }
   ],
   "source": [
    "\n",
    "predicted = torch.cat(predicted)\n",
    "groundsTrue = torch.cat(groundsTrue)\n",
    "score1 = perf_dice(predicted[:,0,:,:], groundsTrue[:,0,:,:])\n",
    "score2 = perf_dice(predicted[:,1,:,:], groundsTrue[:,1,:,:])\n",
    "score3 = perf_dice(predicted[:,2,:,:], groundsTrue[:,2,:,:])\n",
    "totalSc = [score1, score2, score3]\n",
    "x = np.arange(3)\n",
    "totalSc = [score1, score2, score3]\n",
    "plt.figure(figsize=(10, 6))\n",
    "plt.bar(x, totalSc, \n",
    "        color=[\"aqua\", \"violet\", \"greenyellow\"], width=0.5)\n",
    "                                  \n",
    "plt.xticks(x, ['Meningioma(1)', 'Glioma(2)', 'Pituitary Tumor(3)'], fontsize=15)\n",
    "plt.ylabel(\"Dice\", fontsize=15)\n",
    "plt.title(\"Dice for each class\", fontsize=15)\n",
    "\n",
    "for curr, curr_in in zip(x, totalSc):\n",
    "    plt.annotate(f\"{curr_in*100:0.3f}%\", xy=(curr, curr_in), \n",
    "                 rotation=0, color=\"white\", \n",
    "                 ha=\"center\", verticalalignment='bottom', \n",
    "                 fontsize=10, fontweight=\"bold\")\n",
    "    \n",
    "plt.show()"
   ]
  },
  {
   "cell_type": "markdown",
   "metadata": {
    "id": "EQEd-qN9YXdO"
   },
   "source": [
    "### Random test sample"
   ]
  },
  {
   "cell_type": "code",
   "execution_count": 31,
   "metadata": {
    "execution": {
     "iopub.execute_input": "2022-08-26T11:17:51.217545Z",
     "iopub.status.busy": "2022-08-26T11:17:51.217030Z",
     "iopub.status.idle": "2022-08-26T11:17:51.891174Z",
     "shell.execute_reply": "2022-08-26T11:17:51.890172Z",
     "shell.execute_reply.started": "2022-08-26T11:17:51.217505Z"
    },
    "id": "GoOHmHKYUEB-",
    "outputId": "97137c99-fd0f-4e6f-d451-84df5c1b2310"
   },
   "outputs": [
    {
     "data": {
      "text/plain": [
       "Text(0.5, 1.0, 'Pituitary tumor')"
      ]
     },
     "execution_count": 31,
     "metadata": {},
     "output_type": "execute_result"
    },
    {
     "data": {
      "image/png": "[encoded data removed]",
      "text/plain": [
       "<Figure size 720x720 with 2 Axes>"
      ]
     },
     "metadata": {},
     "output_type": "display_data"
    },
    {
     "data": {
      "image/png": "[encoded data removed]",
      "text/plain": [
       "<Figure size 720x720 with 3 Axes>"
      ]
     },
     "metadata": {},
     "output_type": "display_data"
    }
   ],
   "source": [
    "index = np.random.choice(test_info.shape[0], 1, replace=False)\n",
    "\n",
    "scan = test_info[index][0][0]\n",
    "avg, standarddev = scan.mean(), scan.std()\n",
    "scan = (scan - avg) / standarddev  \n",
    "scan = cv2.resize(scan, (128, 128))\n",
    "scan = np.stack([scan]*3).transpose(1,2,0)\n",
    "\n",
    "seg_map = test_info[index][0][1]\n",
    "\n",
    "name = test_info[index][0][2]\n",
    "\n",
    "print(scan.shape, seg_map.shape, name)\n",
    "preds = torch.tensor(scan.astype(np.float32)).unsqueeze(0).permute(0,3,1,2)\n",
    "preds = model(preds.to(device)).detach().cpu().numpy()\n",
    "th = 0.4\n",
    "preds = np.where(preds < th, 0, 255).astype(\"uint8\")\n",
    "\n",
    "pred_1, pred_2, pred_3 = preds[:, 0, :, :], preds[:, 1, :, :], preds[:, 2, :, :]\n",
    "\n",
    "fig, ax = plt.subplots(nrows=1,  ncols=2, figsize=(10, 10))\n",
    "\n",
    "ax[0].imshow(scan)\n",
    "ax[0].set_title(\"Image\")\n",
    "ax[1].imshow(seg_map)\n",
    "ax[1].set_title(f'Ground Truth with label \"{integer_to_class[name].capitalize()}\"')\n",
    "plt.suptitle(\"Random Test Sample\",\n",
    "             y=.75, fontsize=20, weight=\"bold\")\n",
    "fig, ax = plt.subplots(nrows=1,  ncols=3, figsize=(10, 10))\n",
    "ax[0].imshow(pred_1[0,:,:])\n",
    "ax[0].set_title(f'{integer_to_class[1].capitalize()}')\n",
    "ax[1].imshow(pred_2[0,:,:])\n",
    "ax[1].set_title(f'{integer_to_class[2].capitalize()}')\n",
    "ax[2].imshow(pred_3[0,:,:])\n",
    "ax[2].set_title(f'{integer_to_class[3].capitalize()}')"
   ]
  }
 ],
 "metadata": {
  "kernelspec": {
   "display_name": "Python 3 (ipykernel)",
   "language": "python",
   "name": "python3"
  },
  "language_info": {
   "codemirror_mode": {
    "name": "ipython",
    "version": 3
   },
   "file_extension": ".py",
   "mimetype": "text/x-python",
   "name": "python",
   "nbconvert_exporter": "python",
   "pygments_lexer": "ipython3",
   "version": "3.9.13"
  }
 },
 "nbformat": 4,
 "nbformat_minor": 4
}
